{
 "cells": [
  {
   "cell_type": "markdown",
   "metadata": {},
   "source": [
    "## Download GWTC-1 data"
   ]
  },
  {
   "cell_type": "code",
   "execution_count": 1,
   "metadata": {
    "scrolled": true
   },
   "outputs": [
    {
     "name": "stdout",
     "output_type": "stream",
     "text": [
      "--2020-08-12 22:14:47--  https://dcc.ligo.org/public/0157/P1800370/002/GWTC-1_sample_release.tar.gz\n",
      "Resolving dcc.ligo.org (dcc.ligo.org)... 131.215.125.144\n",
      "Connecting to dcc.ligo.org (dcc.ligo.org)|131.215.125.144|:443... connected.\n",
      "HTTP request sent, awaiting response... 200 OK\n",
      "Length: 89895447 (86M) [application/x-gzip]\n",
      "Saving to: ‘GWTC-1_sample_release.tar.gz’\n",
      "\n",
      "GWTC-1_sample_relea 100%[===================>]  85.73M   109KB/s    in 15m 21s \n",
      "\n",
      "2020-08-12 22:30:11 (95.3 KB/s) - ‘GWTC-1_sample_release.tar.gz’ saved [89895447/89895447]\n",
      "\n"
     ]
    }
   ],
   "source": [
    "!wget https://dcc.ligo.org/public/0157/P1800370/002/GWTC-1_sample_release.tar.gz"
   ]
  },
  {
   "cell_type": "code",
   "execution_count": 1,
   "metadata": {},
   "outputs": [
    {
     "name": "stdout",
     "output_type": "stream",
     "text": [
      "./GWTC-1_sample_release/\n",
      "./GWTC-1_sample_release/GW170729_GWTC-1.hdf5\n",
      "./GWTC-1_sample_release/GW151226_GWTC-1.hdf5\n",
      "./GWTC-1_sample_release/GW170809_GWTC-1.hdf5\n",
      "./GWTC-1_sample_release/GW170104_GWTC-1.hdf5\n",
      "./GWTC-1_sample_release/GW170817_GWTC-1.hdf5\n",
      "./GWTC-1_sample_release/GW170608_GWTC-1.hdf5\n",
      "./GWTC-1_sample_release/GW170814_GWTC-1.hdf5\n",
      "./GWTC-1_sample_release/GW151012_GWTC-1.hdf5\n",
      "./GWTC-1_sample_release/GW170809_priorChoices_GWTC-1.hdf5\n",
      "./GWTC-1_sample_release/GW170818_GWTC-1.hdf5\n",
      "./GWTC-1_sample_release/GW150914_GWTC-1.hdf5\n",
      "./GWTC-1_sample_release/GW170823_GWTC-1.hdf5\n"
     ]
    }
   ],
   "source": [
    "!tar -xvzf GWTC-1_sample_release.tar.gz"
   ]
  },
  {
   "cell_type": "markdown",
   "metadata": {},
   "source": [
    "## Imports"
   ]
  },
  {
   "cell_type": "code",
   "execution_count": 1,
   "metadata": {},
   "outputs": [
    {
     "name": "stdout",
     "output_type": "stream",
     "text": [
      "Populating the interactive namespace from numpy and matplotlib\n"
     ]
    }
   ],
   "source": [
    "import bilby\n",
    "import gwpopulation as gwpop\n",
    "import numpy as np\n",
    "import matplotlib.pyplot as plt\n",
    "import h5py\n",
    "import pandas as pd\n",
    "\n",
    "from astropy import cosmology, units\n",
    "from scipy.interpolate import interp1d\n",
    "\n",
    "from bilby.core.prior import Uniform, LogUniform, PriorDict\n",
    "from gwpopulation.models import mass, spin\n",
    "\n",
    "%pylab inline"
   ]
  },
  {
   "cell_type": "markdown",
   "metadata": {},
   "source": [
    "## Viewing the contents of the files\n",
    "\n",
    "- The Default model uses this waveform: `IMRPhenomPv2` - Inspiral-Merger-Ringdown Phenomena v2 \n",
    "- `SEOBNRv3` - Spin-Aligned Effective One Body Numerical Relativity\n",
    "- The Gaussian model uses this waveform: `Overall` which combines the above two models"
   ]
  },
  {
   "cell_type": "code",
   "execution_count": 2,
   "metadata": {},
   "outputs": [
    {
     "data": {
      "text/plain": [
       "<KeysViewHDF5 ['IMRPhenomPv2_posterior', 'Overall_posterior', 'SEOBNRv3_posterior', 'prior']>"
      ]
     },
     "execution_count": 2,
     "metadata": {},
     "output_type": "execute_result"
    }
   ],
   "source": [
    "f = h5py.File('GWTC-1_sample_release/GW150914_GWTC-1.hdf5', 'r')\n",
    "f.keys()"
   ]
  },
  {
   "cell_type": "code",
   "execution_count": 3,
   "metadata": {},
   "outputs": [
    {
     "data": {
      "text/plain": [
       "Index(['costheta_jn', 'luminosity_distance_Mpc', 'right_ascension',\n",
       "       'declination', 'm1_detector_frame_Msun', 'm2_detector_frame_Msun',\n",
       "       'spin1', 'spin2', 'costilt1', 'costilt2'],\n",
       "      dtype='object')"
      ]
     },
     "execution_count": 3,
     "metadata": {},
     "output_type": "execute_result"
    }
   ],
   "source": [
    "df1 = pd.DataFrame(np.array(f['IMRPhenomPv2_posterior']))\n",
    "df1.keys()"
   ]
  },
  {
   "cell_type": "markdown",
   "metadata": {},
   "source": [
    "### Changing the names of some of the parameters to make them work with gwpopulation\n",
    "\n",
    "We do this for `IMRPhenomPv2_posterior` first."
   ]
  },
  {
   "cell_type": "code",
   "execution_count": 4,
   "metadata": {},
   "outputs": [],
   "source": [
    "parameter_translator = dict(\n",
    "    mass_1_det = 'm1_detector_frame_Msun',\n",
    "    mass_2_det = 'm2_detector_frame_Msun',\n",
    "    luminosity_distance = 'luminosity_distance_Mpc',\n",
    "    a_1 = 'spin1',\n",
    "    a_2 = 'spin2',\n",
    "    cos_tilt_1 = 'costilt1',\n",
    "    cos_tilt_2 = 'costilt2')"
   ]
  },
  {
   "cell_type": "code",
   "execution_count": 5,
   "metadata": {
    "scrolled": true
   },
   "outputs": [],
   "source": [
    "posteriors = list()\n",
    "priors = list()\n",
    "\n",
    "file = 'GWTC-1_sample_release/GW{}_GWTC-1.hdf5'\n",
    "\n",
    "events = ['150914', '151012', '151226', '170104', '170608', '170729', '170809', '170814', \n",
    "          '170818', '170823']\n",
    "\n",
    "for event in events:\n",
    "    _posterior = pd.DataFrame()\n",
    "    _prior = pd.DataFrame()\n",
    "    with h5py.File(file.format(event), 'r') as ff:\n",
    "        for my_key, gwtc_key in parameter_translator.items():\n",
    "            _posterior[my_key] = ff['IMRPhenomPv2_posterior'][gwtc_key]\n",
    "            _prior[my_key] = ff['prior'][gwtc_key]\n",
    "    posteriors.append(_posterior)\n",
    "    priors.append(_prior)"
   ]
  },
  {
   "cell_type": "code",
   "execution_count": 6,
   "metadata": {},
   "outputs": [
    {
     "data": {
      "text/html": [
       "<div>\n",
       "<style scoped>\n",
       "    .dataframe tbody tr th:only-of-type {\n",
       "        vertical-align: middle;\n",
       "    }\n",
       "\n",
       "    .dataframe tbody tr th {\n",
       "        vertical-align: top;\n",
       "    }\n",
       "\n",
       "    .dataframe thead th {\n",
       "        text-align: right;\n",
       "    }\n",
       "</style>\n",
       "<table border=\"1\" class=\"dataframe\">\n",
       "  <thead>\n",
       "    <tr style=\"text-align: right;\">\n",
       "      <th></th>\n",
       "      <th>mass_1_det</th>\n",
       "      <th>mass_2_det</th>\n",
       "      <th>luminosity_distance</th>\n",
       "      <th>a_1</th>\n",
       "      <th>a_2</th>\n",
       "      <th>cos_tilt_1</th>\n",
       "      <th>cos_tilt_2</th>\n",
       "    </tr>\n",
       "  </thead>\n",
       "  <tbody>\n",
       "    <tr>\n",
       "      <th>0</th>\n",
       "      <td>43.561878</td>\n",
       "      <td>30.006974</td>\n",
       "      <td>360.963036</td>\n",
       "      <td>0.481479</td>\n",
       "      <td>0.551643</td>\n",
       "      <td>0.012162</td>\n",
       "      <td>0.137818</td>\n",
       "    </tr>\n",
       "    <tr>\n",
       "      <th>1</th>\n",
       "      <td>37.006684</td>\n",
       "      <td>35.723611</td>\n",
       "      <td>538.067256</td>\n",
       "      <td>0.323226</td>\n",
       "      <td>0.225597</td>\n",
       "      <td>0.454174</td>\n",
       "      <td>-0.482123</td>\n",
       "    </tr>\n",
       "    <tr>\n",
       "      <th>2</th>\n",
       "      <td>35.747480</td>\n",
       "      <td>34.267309</td>\n",
       "      <td>378.730720</td>\n",
       "      <td>0.490409</td>\n",
       "      <td>0.229346</td>\n",
       "      <td>-0.069300</td>\n",
       "      <td>-0.493216</td>\n",
       "    </tr>\n",
       "    <tr>\n",
       "      <th>3</th>\n",
       "      <td>45.168491</td>\n",
       "      <td>26.692544</td>\n",
       "      <td>446.937909</td>\n",
       "      <td>0.907815</td>\n",
       "      <td>0.128135</td>\n",
       "      <td>-0.127557</td>\n",
       "      <td>-0.694896</td>\n",
       "    </tr>\n",
       "    <tr>\n",
       "      <th>4</th>\n",
       "      <td>36.308165</td>\n",
       "      <td>35.889917</td>\n",
       "      <td>496.628291</td>\n",
       "      <td>0.144858</td>\n",
       "      <td>0.437158</td>\n",
       "      <td>0.487946</td>\n",
       "      <td>-0.237507</td>\n",
       "    </tr>\n",
       "    <tr>\n",
       "      <th>...</th>\n",
       "      <td>...</td>\n",
       "      <td>...</td>\n",
       "      <td>...</td>\n",
       "      <td>...</td>\n",
       "      <td>...</td>\n",
       "      <td>...</td>\n",
       "      <td>...</td>\n",
       "    </tr>\n",
       "    <tr>\n",
       "      <th>40831</th>\n",
       "      <td>38.577778</td>\n",
       "      <td>31.417375</td>\n",
       "      <td>503.472940</td>\n",
       "      <td>0.268453</td>\n",
       "      <td>0.194847</td>\n",
       "      <td>0.039890</td>\n",
       "      <td>-0.925528</td>\n",
       "    </tr>\n",
       "    <tr>\n",
       "      <th>40832</th>\n",
       "      <td>37.253314</td>\n",
       "      <td>33.156328</td>\n",
       "      <td>478.421089</td>\n",
       "      <td>0.805262</td>\n",
       "      <td>0.823590</td>\n",
       "      <td>0.655502</td>\n",
       "      <td>-0.985068</td>\n",
       "    </tr>\n",
       "    <tr>\n",
       "      <th>40833</th>\n",
       "      <td>40.528821</td>\n",
       "      <td>30.134671</td>\n",
       "      <td>516.916074</td>\n",
       "      <td>0.437801</td>\n",
       "      <td>0.408049</td>\n",
       "      <td>-0.277677</td>\n",
       "      <td>-0.280263</td>\n",
       "    </tr>\n",
       "    <tr>\n",
       "      <th>40834</th>\n",
       "      <td>35.683458</td>\n",
       "      <td>34.021918</td>\n",
       "      <td>464.564783</td>\n",
       "      <td>0.214438</td>\n",
       "      <td>0.819591</td>\n",
       "      <td>-0.557688</td>\n",
       "      <td>-0.119711</td>\n",
       "    </tr>\n",
       "    <tr>\n",
       "      <th>40835</th>\n",
       "      <td>37.076340</td>\n",
       "      <td>34.457461</td>\n",
       "      <td>460.556753</td>\n",
       "      <td>0.325657</td>\n",
       "      <td>0.517163</td>\n",
       "      <td>-0.289037</td>\n",
       "      <td>0.054623</td>\n",
       "    </tr>\n",
       "  </tbody>\n",
       "</table>\n",
       "<p>40836 rows × 7 columns</p>\n",
       "</div>"
      ],
      "text/plain": [
       "       mass_1_det  mass_2_det  luminosity_distance       a_1       a_2  \\\n",
       "0       43.561878   30.006974           360.963036  0.481479  0.551643   \n",
       "1       37.006684   35.723611           538.067256  0.323226  0.225597   \n",
       "2       35.747480   34.267309           378.730720  0.490409  0.229346   \n",
       "3       45.168491   26.692544           446.937909  0.907815  0.128135   \n",
       "4       36.308165   35.889917           496.628291  0.144858  0.437158   \n",
       "...           ...         ...                  ...       ...       ...   \n",
       "40831   38.577778   31.417375           503.472940  0.268453  0.194847   \n",
       "40832   37.253314   33.156328           478.421089  0.805262  0.823590   \n",
       "40833   40.528821   30.134671           516.916074  0.437801  0.408049   \n",
       "40834   35.683458   34.021918           464.564783  0.214438  0.819591   \n",
       "40835   37.076340   34.457461           460.556753  0.325657  0.517163   \n",
       "\n",
       "       cos_tilt_1  cos_tilt_2  \n",
       "0        0.012162    0.137818  \n",
       "1        0.454174   -0.482123  \n",
       "2       -0.069300   -0.493216  \n",
       "3       -0.127557   -0.694896  \n",
       "4        0.487946   -0.237507  \n",
       "...           ...         ...  \n",
       "40831    0.039890   -0.925528  \n",
       "40832    0.655502   -0.985068  \n",
       "40833   -0.277677   -0.280263  \n",
       "40834   -0.557688   -0.119711  \n",
       "40835   -0.289037    0.054623  \n",
       "\n",
       "[40836 rows x 7 columns]"
      ]
     },
     "execution_count": 6,
     "metadata": {},
     "output_type": "execute_result"
    }
   ],
   "source": [
    "posteriors[0]"
   ]
  },
  {
   "cell_type": "markdown",
   "metadata": {},
   "source": [
    "### Some Important Definitions\n",
    "\n",
    "- Individual masses = mi; Individual spins = Si\n",
    "- Total Mass = m1 + m2\n",
    "- Mass ratio (q) = m2/m1, where m1 ≥ m2.\n",
    "- Effective spin which is a combination of the spin components along the orbital angular momentum direction Lˆ, χeff = (S1/m1 + S2/m2)* Lˆ/M\n",
    "- We will also characterize BH spins using the dimensionless spin variables χi = Si/m2i\n",
    "\n",
    "Due to the expansion of spacetime as the gravitational wave is propagating, the frequencies measured by the instrument are redshifted relative to those emitted at the source (Thorne 1983). We capture these effects by distinguishing between masses as they would be measured in the source frame, denoted as above, and the redshifted masses, (1+z)mi, which are measured in the detector frame. \n",
    "\n",
    "- Hence m(source) = mass_det / (1+z)\n",
    "\n",
    "Meanwhile, the amplitude of the wave scales inversely with the luminosity distance (Misner et al. 1973). We use the GW measurement of the luminosity distance to obtain the cosmological redshift and therefore convert between detector-frame and source-frame masses. We assume a fixed Planck 2015 (Planck Collaboration et al. 2016) cosmology throughout to con- vert between a source’s luminosity distance and its redshift (Hogg 1999).\n",
    "\n",
    "To do this, first create a function that takes in luminosity distance and gives back redshift. Here that function is `dl_to_z`."
   ]
  },
  {
   "cell_type": "code",
   "execution_count": 7,
   "metadata": {},
   "outputs": [
    {
     "data": {
      "image/png": "[encoded data removed]",
      "text/plain": [
       "<Figure size 432x288 with 1 Axes>"
      ]
     },
     "metadata": {
      "needs_background": "light"
     },
     "output_type": "display_data"
    }
   ],
   "source": [
    "luminosity_distances = np.linspace(1, 10000, 1000)\n",
    "redshifts = np.array([cosmology.z_at_value(cosmology.Planck15.luminosity_distance, \n",
    "                                                   dl * units.Mpc) for dl in luminosity_distances])\n",
    "dl_to_z = interp1d(luminosity_distances, redshifts)\n",
    "\n",
    "plt.plot(luminosity_distances, redshifts)\n",
    "plt.xlabel('Luminosity Distances (Mpc)')\n",
    "plt.ylabel('Redshifts')\n",
    "plt.show()"
   ]
  },
  {
   "cell_type": "code",
   "execution_count": 8,
   "metadata": {},
   "outputs": [],
   "source": [
    "for posterior in posteriors:\n",
    "    posterior['redshift'] = dl_to_z(posterior['luminosity_distance'])\n",
    "    posterior['mass_1'] = posterior['mass_1_det'] / (1 + posterior['redshift'])\n",
    "    posterior['mass_2'] = posterior['mass_2_det'] / (1 + posterior['redshift'])\n",
    "    posterior['mass_ratio'] = posterior['mass_2'] / posterior['mass_1']"
   ]
  },
  {
   "cell_type": "code",
   "execution_count": 9,
   "metadata": {},
   "outputs": [
    {
     "data": {
      "text/html": [
       "<div>\n",
       "<style scoped>\n",
       "    .dataframe tbody tr th:only-of-type {\n",
       "        vertical-align: middle;\n",
       "    }\n",
       "\n",
       "    .dataframe tbody tr th {\n",
       "        vertical-align: top;\n",
       "    }\n",
       "\n",
       "    .dataframe thead th {\n",
       "        text-align: right;\n",
       "    }\n",
       "</style>\n",
       "<table border=\"1\" class=\"dataframe\">\n",
       "  <thead>\n",
       "    <tr style=\"text-align: right;\">\n",
       "      <th></th>\n",
       "      <th>mass_1_det</th>\n",
       "      <th>mass_2_det</th>\n",
       "      <th>luminosity_distance</th>\n",
       "      <th>a_1</th>\n",
       "      <th>a_2</th>\n",
       "      <th>cos_tilt_1</th>\n",
       "      <th>cos_tilt_2</th>\n",
       "      <th>redshift</th>\n",
       "      <th>mass_1</th>\n",
       "      <th>mass_2</th>\n",
       "      <th>mass_ratio</th>\n",
       "    </tr>\n",
       "  </thead>\n",
       "  <tbody>\n",
       "    <tr>\n",
       "      <th>0</th>\n",
       "      <td>43.561878</td>\n",
       "      <td>30.006974</td>\n",
       "      <td>360.963036</td>\n",
       "      <td>0.481479</td>\n",
       "      <td>0.551643</td>\n",
       "      <td>0.012162</td>\n",
       "      <td>0.137818</td>\n",
       "      <td>0.077120</td>\n",
       "      <td>40.442921</td>\n",
       "      <td>27.858525</td>\n",
       "      <td>0.688836</td>\n",
       "    </tr>\n",
       "    <tr>\n",
       "      <th>1</th>\n",
       "      <td>37.006684</td>\n",
       "      <td>35.723611</td>\n",
       "      <td>538.067256</td>\n",
       "      <td>0.323226</td>\n",
       "      <td>0.225597</td>\n",
       "      <td>0.454174</td>\n",
       "      <td>-0.482123</td>\n",
       "      <td>0.112285</td>\n",
       "      <td>33.270867</td>\n",
       "      <td>32.117319</td>\n",
       "      <td>0.965329</td>\n",
       "    </tr>\n",
       "    <tr>\n",
       "      <th>2</th>\n",
       "      <td>35.747480</td>\n",
       "      <td>34.267309</td>\n",
       "      <td>378.730720</td>\n",
       "      <td>0.490409</td>\n",
       "      <td>0.229346</td>\n",
       "      <td>-0.069300</td>\n",
       "      <td>-0.493216</td>\n",
       "      <td>0.080717</td>\n",
       "      <td>33.077567</td>\n",
       "      <td>31.707947</td>\n",
       "      <td>0.958594</td>\n",
       "    </tr>\n",
       "    <tr>\n",
       "      <th>3</th>\n",
       "      <td>45.168491</td>\n",
       "      <td>26.692544</td>\n",
       "      <td>446.937909</td>\n",
       "      <td>0.907815</td>\n",
       "      <td>0.128135</td>\n",
       "      <td>-0.127557</td>\n",
       "      <td>-0.694896</td>\n",
       "      <td>0.094378</td>\n",
       "      <td>41.273212</td>\n",
       "      <td>24.390609</td>\n",
       "      <td>0.590955</td>\n",
       "    </tr>\n",
       "    <tr>\n",
       "      <th>4</th>\n",
       "      <td>36.308165</td>\n",
       "      <td>35.889917</td>\n",
       "      <td>496.628291</td>\n",
       "      <td>0.144858</td>\n",
       "      <td>0.437158</td>\n",
       "      <td>0.487946</td>\n",
       "      <td>-0.237507</td>\n",
       "      <td>0.104189</td>\n",
       "      <td>32.882193</td>\n",
       "      <td>32.503410</td>\n",
       "      <td>0.988481</td>\n",
       "    </tr>\n",
       "    <tr>\n",
       "      <th>...</th>\n",
       "      <td>...</td>\n",
       "      <td>...</td>\n",
       "      <td>...</td>\n",
       "      <td>...</td>\n",
       "      <td>...</td>\n",
       "      <td>...</td>\n",
       "      <td>...</td>\n",
       "      <td>...</td>\n",
       "      <td>...</td>\n",
       "      <td>...</td>\n",
       "      <td>...</td>\n",
       "    </tr>\n",
       "    <tr>\n",
       "      <th>40831</th>\n",
       "      <td>38.577778</td>\n",
       "      <td>31.417375</td>\n",
       "      <td>503.472940</td>\n",
       "      <td>0.268453</td>\n",
       "      <td>0.194847</td>\n",
       "      <td>0.039890</td>\n",
       "      <td>-0.925528</td>\n",
       "      <td>0.105532</td>\n",
       "      <td>34.895216</td>\n",
       "      <td>28.418332</td>\n",
       "      <td>0.814390</td>\n",
       "    </tr>\n",
       "    <tr>\n",
       "      <th>40832</th>\n",
       "      <td>37.253314</td>\n",
       "      <td>33.156328</td>\n",
       "      <td>478.421089</td>\n",
       "      <td>0.805262</td>\n",
       "      <td>0.823590</td>\n",
       "      <td>0.655502</td>\n",
       "      <td>-0.985068</td>\n",
       "      <td>0.100608</td>\n",
       "      <td>33.847949</td>\n",
       "      <td>30.125472</td>\n",
       "      <td>0.890024</td>\n",
       "    </tr>\n",
       "    <tr>\n",
       "      <th>40833</th>\n",
       "      <td>40.528821</td>\n",
       "      <td>30.134671</td>\n",
       "      <td>516.916074</td>\n",
       "      <td>0.437801</td>\n",
       "      <td>0.408049</td>\n",
       "      <td>-0.277677</td>\n",
       "      <td>-0.280263</td>\n",
       "      <td>0.108162</td>\n",
       "      <td>36.572999</td>\n",
       "      <td>27.193371</td>\n",
       "      <td>0.743537</td>\n",
       "    </tr>\n",
       "    <tr>\n",
       "      <th>40834</th>\n",
       "      <td>35.683458</td>\n",
       "      <td>34.021918</td>\n",
       "      <td>464.564783</td>\n",
       "      <td>0.214438</td>\n",
       "      <td>0.819591</td>\n",
       "      <td>-0.557688</td>\n",
       "      <td>-0.119711</td>\n",
       "      <td>0.097872</td>\n",
       "      <td>32.502395</td>\n",
       "      <td>30.988976</td>\n",
       "      <td>0.953437</td>\n",
       "    </tr>\n",
       "    <tr>\n",
       "      <th>40835</th>\n",
       "      <td>37.076340</td>\n",
       "      <td>34.457461</td>\n",
       "      <td>460.556753</td>\n",
       "      <td>0.325657</td>\n",
       "      <td>0.517163</td>\n",
       "      <td>-0.289037</td>\n",
       "      <td>0.054623</td>\n",
       "      <td>0.097079</td>\n",
       "      <td>33.795510</td>\n",
       "      <td>31.408372</td>\n",
       "      <td>0.929365</td>\n",
       "    </tr>\n",
       "  </tbody>\n",
       "</table>\n",
       "<p>40836 rows × 11 columns</p>\n",
       "</div>"
      ],
      "text/plain": [
       "       mass_1_det  mass_2_det  luminosity_distance       a_1       a_2  \\\n",
       "0       43.561878   30.006974           360.963036  0.481479  0.551643   \n",
       "1       37.006684   35.723611           538.067256  0.323226  0.225597   \n",
       "2       35.747480   34.267309           378.730720  0.490409  0.229346   \n",
       "3       45.168491   26.692544           446.937909  0.907815  0.128135   \n",
       "4       36.308165   35.889917           496.628291  0.144858  0.437158   \n",
       "...           ...         ...                  ...       ...       ...   \n",
       "40831   38.577778   31.417375           503.472940  0.268453  0.194847   \n",
       "40832   37.253314   33.156328           478.421089  0.805262  0.823590   \n",
       "40833   40.528821   30.134671           516.916074  0.437801  0.408049   \n",
       "40834   35.683458   34.021918           464.564783  0.214438  0.819591   \n",
       "40835   37.076340   34.457461           460.556753  0.325657  0.517163   \n",
       "\n",
       "       cos_tilt_1  cos_tilt_2  redshift     mass_1     mass_2  mass_ratio  \n",
       "0        0.012162    0.137818  0.077120  40.442921  27.858525    0.688836  \n",
       "1        0.454174   -0.482123  0.112285  33.270867  32.117319    0.965329  \n",
       "2       -0.069300   -0.493216  0.080717  33.077567  31.707947    0.958594  \n",
       "3       -0.127557   -0.694896  0.094378  41.273212  24.390609    0.590955  \n",
       "4        0.487946   -0.237507  0.104189  32.882193  32.503410    0.988481  \n",
       "...           ...         ...       ...        ...        ...         ...  \n",
       "40831    0.039890   -0.925528  0.105532  34.895216  28.418332    0.814390  \n",
       "40832    0.655502   -0.985068  0.100608  33.847949  30.125472    0.890024  \n",
       "40833   -0.277677   -0.280263  0.108162  36.572999  27.193371    0.743537  \n",
       "40834   -0.557688   -0.119711  0.097872  32.502395  30.988976    0.953437  \n",
       "40835   -0.289037    0.054623  0.097079  33.795510  31.408372    0.929365  \n",
       "\n",
       "[40836 rows x 11 columns]"
      ]
     },
     "execution_count": 9,
     "metadata": {},
     "output_type": "execute_result"
    }
   ],
   "source": [
    "posteriors[0]"
   ]
  },
  {
   "cell_type": "markdown",
   "metadata": {},
   "source": [
    "## Specify the Model\n",
    "\n",
    "#### Model A - Default (Model C as shown in the table below) \n",
    "\n",
    "Model for mass distribution: Talbot and Thrane 2018\n",
    "\n",
    "- gwpop.models.mass.SinglePeakSmoothedMassDistribution()\n",
    "\n",
    "Beta Distribution described by the model:\n",
    "\n",
    "- gwpop.models.spin.independent_spin_magnitude_beta\n",
    "\n",
    "Spin orientation represented by Talbot and Thrane 2017:\n",
    "\n",
    "- gwpop.models.spin.independent_spin_orientation_gaussian_isotropic\n",
    "\n",
    "\n",
    "Priors:\n",
    "We adopt a prior on the spin magnitude model parameters which are uniform over the values of E[a] and Var[a] which satisfy αa, βa ≥ 1, avoiding numerically challenging singular spin distributions. To describe the spin orientation, we assume that the tilt angles between each black hole spin and the orbital angular momentum, ti, are drawn from a mixture of two distributions: an isotropic component, and a preferentially aligned component, represented by a truncated Gaussian distribution in costi peaked at costi = 1"
   ]
  },
  {
   "cell_type": "code",
   "execution_count": 10,
   "metadata": {},
   "outputs": [],
   "source": [
    "modelA = bilby.hyper.model.Model([mass.SmoothedMassDistribution(),\n",
    "                                  spin.independent_spin_magnitude_beta, \n",
    "                                  spin.independent_spin_orientation_gaussian_isotropic])"
   ]
  },
  {
   "cell_type": "markdown",
   "metadata": {},
   "source": [
    "### Following is a snippet of prior models and prior ranges. The default model is Model C.\n",
    "\n",
    "<img src=\"ModelParameters.png\">\n",
    "\n",
    "<img src=\"SpinParametersA.png\">\n",
    "\n",
    "<font color='green'>Just confirming, the values of alpha and beta are already constrained to be greater than 1 right (by the boundary conditions of other parameters)?</font>"
   ]
  },
  {
   "cell_type": "markdown",
   "metadata": {},
   "source": [
    "<font color='green'>\n",
    "    <h3>Am I doing something wrong with the prior? </h3> \n",
    "    <br>\n",
    "    I need to know why I get a keyerror with alpha_chi_1 while running the sampler.\n",
    "</font>\n",
    "\n",
    "Will something like this help?\n",
    "\n",
    "~~~\n",
    "priors = bilby.prior.PriorDict(dict(\n",
    "    x=bilby.prior.Uniform(0, 1, 'x'),\n",
    "    y=bilby.prior.Cosine('y'),\n",
    "    ratio=bilby.prior.Constraint(minimum=0, maximum=1, name='ratio')),\n",
    "    conversion_function=conv)\n",
    "~~~"
   ]
  },
  {
   "cell_type": "markdown",
   "metadata": {},
   "source": [
    "<font color='green'>What is the right way to use gwpopulation.conversions in this case when we are dealing with mean and variance of beta distribution?</font>"
   ]
  },
  {
   "cell_type": "code",
   "execution_count": 17,
   "metadata": {},
   "outputs": [],
   "source": [
    "priorsA = PriorDict()\n",
    "\n",
    "# rate\n",
    "priorsA['rate'] = LogUniform(minimum=1e-20, maximum=1e20, latex_label='$R$')\n",
    "\n",
    "# mass\n",
    "priorsA['alpha'] = Uniform(minimum=-4, maximum=12, latex_label='$\\\\alpha$')\n",
    "priorsA['beta'] = Uniform(minimum=-4, maximum=12, latex_label='$\\\\beta$')\n",
    "priorsA['mmin'] = Uniform(minimum=5, maximum=10, latex_label='$m_{\\\\min}$')\n",
    "priorsA['mmax'] = Uniform(minimum=30, maximum=100, latex_label='$m_{\\\\max}$')\n",
    "priorsA['lam'] = Uniform(minimum=0, maximum=1, latex_label='$\\\\lambda_{m}$')\n",
    "priorsA['mpp'] = Uniform(minimum=20, maximum=50, latex_label='$\\\\mu_{m}$')\n",
    "priorsA['sigpp'] = Uniform(minimum=0, maximum=10, latex_label='$\\\\sigma_{m}$')\n",
    "priorsA['delta_m'] = Uniform(minimum=0, maximum=10, latex_label='$\\\\sigma_{m}$')\n",
    "\n",
    "# spin magnitude\n",
    "priorsA['amax'] = 1\n",
    "priorsA['mu_chi'] = Uniform(minimum=0, maximum=1, latex_label='$\\\\mu_{\\\\chi}$')\n",
    "priorsA['sigma_chi'] = Uniform(minimum=0, maximum=0.25, latex_label='$\\\\sigma_{\\\\chi}_1$')\n",
    "\n",
    "# spin orientation\n",
    "priorsA['xi_spin'] = Uniform(minimum=0, maximum=1, latex_label='$\\\\xi$')\n",
    "priorsA['sigma_1'] = Uniform(minimum=0, maximum=4, latex_label='$\\\\sigma{1}$')\n",
    "priorsA['sigma_2'] = Uniform(minimum=0, maximum=4, latex_label='$\\\\sigma{2}$')"
   ]
  },
  {
   "cell_type": "code",
   "execution_count": 18,
   "metadata": {},
   "outputs": [
    {
     "name": "stderr",
     "output_type": "stream",
     "text": [
      "06:18 bilby WARNING : Cannot import cupy, falling back to numpy.\n",
      "06:18 bilby INFO    : No prior values provided, defaulting to 1.\n"
     ]
    }
   ],
   "source": [
    "likelihoodA = gwpop.hyperpe.HyperparameterLikelihood(posteriors=posteriors, \n",
    "                                                     hyper_prior=modelA, \n",
    "        conversion_function = gwpop.conversions.convert_to_beta_parameters)"
   ]
  },
  {
   "cell_type": "code",
   "execution_count": 22,
   "metadata": {
    "scrolled": false
   },
   "outputs": [],
   "source": [
    "likelihoodA.parameters.update(priorsA.sample())\n",
    "likelihoodA.log_likelihood_ratio()\n",
    "\n",
    "resultA = bilby.run_sampler(likelihood = likelihoodA, priors = priorsA, sampler='dynesty', \n",
    "                            nlive=50, label='Default', outdir = 'Default')"
   ]
  },
  {
   "cell_type": "code",
   "execution_count": null,
   "metadata": {},
   "outputs": [],
   "source": []
  },
  {
   "cell_type": "code",
   "execution_count": null,
   "metadata": {},
   "outputs": [],
   "source": []
  },
  {
   "cell_type": "markdown",
   "metadata": {},
   "source": [
    "# Model B - Gaussian\n",
    "\n",
    "This paper uses `Overall_posterior`."
   ]
  },
  {
   "cell_type": "code",
   "execution_count": 28,
   "metadata": {},
   "outputs": [],
   "source": [
    "posteriorsB = list()\n",
    "\n",
    "for event in events:\n",
    "    _posterior = pd.DataFrame()\n",
    "    _prior = pd.DataFrame()\n",
    "    with h5py.File(file.format(event), 'r') as ff:\n",
    "        for my_key, gwtc_key in parameter_translator.items():\n",
    "            _posterior[my_key] = ff['Overall_posterior'][gwtc_key]\n",
    "    posteriorsB.append(_posterior)"
   ]
  },
  {
   "cell_type": "code",
   "execution_count": 29,
   "metadata": {},
   "outputs": [],
   "source": [
    "for posterior in posteriorsB:\n",
    "    posterior['redshift'] = dl_to_z(posterior['luminosity_distance'])\n",
    "    posterior['mass_1'] = posterior['mass_1_det'] / (1 + posterior['redshift'])\n",
    "    posterior['mass_2'] = posterior['mass_2_det'] / (1 + posterior['redshift'])\n",
    "    posterior['mass_ratio'] = posterior['mass_2'] / posterior['mass_1']"
   ]
  },
  {
   "cell_type": "markdown",
   "metadata": {},
   "source": [
    "### Sampling effective spins from a truncated Gaussian\n",
    "\n",
    "Effective spins are drawn from a simple truncated Gaussian.\n",
    "\n",
    "<img src=\"chieff.png\">\n"
   ]
  },
  {
   "cell_type": "markdown",
   "metadata": {},
   "source": [
    "### Sampling $\\chi_{eff}$"
   ]
  },
  {
   "cell_type": "code",
   "execution_count": 54,
   "metadata": {},
   "outputs": [],
   "source": [
    "def chi_eff(a1, a2, m1, m2, cost1, cost2):\n",
    "    chieff = (a1*m1*cost1 + a2*m2*cost2)/(m1+m2)\n",
    "    return chi_eff"
   ]
  },
  {
   "cell_type": "code",
   "execution_count": 55,
   "metadata": {},
   "outputs": [],
   "source": [
    "for posterior in posteriorsB:\n",
    "    posterior['chi_eff'] = chi_eff(posterior['a_1'], posterior['a_2'], \n",
    "                                posterior['mass_1'], posterior['mass_2'], \n",
    "                                posterior['cos_tilt_1'], posterior['cos_tilt_2'])"
   ]
  },
  {
   "cell_type": "code",
   "execution_count": 56,
   "metadata": {},
   "outputs": [],
   "source": [
    "chieff_prior = dict(mu_chieff = Uniform(minimum = -1, maximum = 1, latex_label = \"$\\\\mu$\"),\n",
    "                    var_chieff = Uniform(minimum = 0, maximum = 1, latex_label = \"$\\\\sigma^2$\"))"
   ]
  },
  {
   "cell_type": "code",
   "execution_count": 57,
   "metadata": {},
   "outputs": [],
   "source": [
    "from scipy.special import erf"
   ]
  },
  {
   "cell_type": "code",
   "execution_count": 65,
   "metadata": {},
   "outputs": [],
   "source": [
    "def truncated_gaussian(dataset, mu, var):\n",
    "    norm = (2/(np.pi*var))**0.5 * (erf((1-mu)/(2*var)**0.5) + erf((1+mu)/(2*var)**0.5))**(-1)\n",
    "    prob = np.exp(-(dataset['chi_eff'] - mu)**2 / (2 * var))\n",
    "    return norm*prob"
   ]
  },
  {
   "cell_type": "code",
   "execution_count": 66,
   "metadata": {},
   "outputs": [
    {
     "name": "stderr",
     "output_type": "stream",
     "text": [
      "11:06 bilby WARNING : Cannot import cupy, falling back to numpy.\n",
      "11:06 bilby INFO    : No prior values provided, defaulting to 1.\n"
     ]
    }
   ],
   "source": [
    "likelihoodB = gwpop.hyperpe.HyperparameterLikelihood(posteriors = posteriorsB,\n",
    "                                                     hyper_prior=truncated_gaussian)"
   ]
  },
  {
   "cell_type": "code",
   "execution_count": 67,
   "metadata": {},
   "outputs": [],
   "source": [
    "priorsB = PriorDict()\n",
    "\n",
    "priorsB['mu'] = Uniform(minimum=1, maximum=2, latex_label='$\\\\mu$')\n",
    "priorsB['var'] = LogUniform(minimum=1e-2, maximum=1, latex_label='$\\\\sigma^2$')\n",
    "\n",
    "# rate\n",
    "# priorsB['rate'] = LogUniform()\n",
    "\n",
    "# mass\n",
    "priorsB['mass_1'] = LogUniform(minimum = , maximum = , latex_label = \"$mass_1$\")\n",
    "priorsB['mass_ratio'] = Uniform(minimum = , maximum = , latex_label = \"$q$\")\n",
    "priorsB['lam'] = 2.7\n",
    "priorsB['mmin'] = 5\n"
   ]
  },
  {
   "cell_type": "code",
   "execution_count": 69,
   "metadata": {
    "scrolled": false
   },
   "outputs": [],
   "source": [
    "# likelihoodB.parameters.update(priorsB.sample())\n",
    "# # likelihoodB.log_likelihood_ratio()\n",
    "\n",
    "# resultB = bilby.run_sampler(likelihood = likelihoodB, priors = priorsB, sampler='dynesty', nlive=100)"
   ]
  },
  {
   "cell_type": "markdown",
   "metadata": {},
   "source": [
    "The posterior distribution for mean and variance is:\n",
    "\n",
    "<img src=\"posterior_mu_var.png\">"
   ]
  },
  {
   "cell_type": "markdown",
   "metadata": {},
   "source": [
    "# Rough Work"
   ]
  },
  {
   "cell_type": "markdown",
   "metadata": {},
   "source": [
    "A coalescing compact binary in a quasicircular orbit can be completely characterized by its intrinsic parameters, namely its individual masses mi and spins Si, and its seven extrinsic parameters: right ascension, declination, luminosity distance, coalescence time, and three Euler angles characterizing its orientation (e.g., inclination,\n",
    "orbital phase, and polarization). In this work, we will also use the total mass M = m1 + m2 and mass ratio q\n",
    "defined in the following way:\n",
    "\n",
    "q = m2/m1, where m1 ≥ m2. (1)\n",
    "\n",
    "We will also refer to two other commonly used mass parametrizations: \n",
    "the chirp mass Mc = (m1m2)\n",
    "3/5/(m1 + m2)\n",
    "1/5 and the symmetric mass ratio\n",
    "η = m1m2/(m1 + m2)\n",
    "2\n",
    "With regard to spin, we define an effective spin [46–48], which is a combination of the spin components along the orbital angular momentum direction Lˆ, in the following way:\n",
    "\n",
    "χeff = (S1/m1 + S2/m2) · Lˆ/M (2)\n",
    "\n",
    "where S1 and S2 are the spins on the individual BH. We will also characterize BH spins using the dimensionless\n",
    "spin variables\n",
    "\n",
    "χi = Si/m2i. (3)\n",
    "\n",
    "We will express these dimensionless spins in terms of Cartesian components χi,x, χi,y, χi,z, expressed relative\n",
    "to a frame with ˆz = Lˆ and (for simplicity) at the orbital frequency corresponding to the earliest time of astrophysical interest (e.g., an orbital frequency of ' 10 Hz)."
   ]
  },
  {
   "cell_type": "markdown",
   "metadata": {},
   "source": [
    "170817 not inculded in this analysis"
   ]
  },
  {
   "cell_type": "code",
   "execution_count": 11,
   "metadata": {},
   "outputs": [
    {
     "data": {
      "text/plain": [
       "<KeysViewHDF5 ['IMRPhenomPv2NRT_highSpin_posterior', 'IMRPhenomPv2NRT_highSpin_prior', 'IMRPhenomPv2NRT_lowSpin_posterior', 'IMRPhenomPv2NRT_lowSpin_prior']>"
      ]
     },
     "execution_count": 11,
     "metadata": {},
     "output_type": "execute_result"
    }
   ],
   "source": [
    "# Since this file has different headers\n",
    "\n",
    "f = h5py.File('GWTC-1_sample_release/GW170817_GWTC-1.hdf5', 'r')\n",
    "f.keys()"
   ]
  },
  {
   "cell_type": "code",
   "execution_count": 27,
   "metadata": {},
   "outputs": [],
   "source": [
    "luminosity_prior = luminosity_distances ** 2\n",
    "\n",
    "dz_ddl = np.gradient(redshifts, luminosity_distances)\n",
    "plt.plot(dz_ddl)\n",
    "plt.show()\n",
    "\n",
    "redshift_prior = scipy.interpolate.interp1d(redshifts, luminosity_prior/(dz_ddl*(1 + redshifts)))"
   ]
  }
 ],
 "metadata": {
  "kernelspec": {
   "display_name": "Environment (conda_bilbyenv)",
   "language": "python",
   "name": "conda_bilbyenv"
  },
  "language_info": {
   "codemirror_mode": {
    "name": "ipython",
    "version": 3
   },
   "file_extension": ".py",
   "mimetype": "text/x-python",
   "name": "python",
   "nbconvert_exporter": "python",
   "pygments_lexer": "ipython3",
   "version": "3.7.7"
  }
 },
 "nbformat": 4,
 "nbformat_minor": 2
}
